{
 "cells": [
  {
   "cell_type": "code",
   "execution_count": 1,
   "metadata": {},
   "outputs": [
    {
     "name": "stderr",
     "output_type": "stream",
     "text": [
      "E:\\anaconda64bits\\lib\\site-packages\\pymatgen\\__init__.py:34: UserWarning: With effect from pmg 5.0, all pymatgen settings are prefixed with a \"PMG_\". E.g., \"PMG_VASP_PSP_DIR\" instead of \"VASP_PSP_DIR\".\n",
      "  warnings.warn('With effect from pmg 5.0, all pymatgen settings are'\n"
     ]
    }
   ],
   "source": [
    "from pymatgen import MPRester\n",
    "from pymatgen import Structure\n",
    "from pymatgen.io.vasp.sets import MPRelaxSet"
   ]
  },
  {
   "cell_type": "code",
   "execution_count": 2,
   "metadata": {
    "collapsed": true
   },
   "outputs": [],
   "source": [
    "#Connect to MP database\n",
    "mpr = MPRester('sha1JueA3CU5QzB8')"
   ]
  },
  {
   "cell_type": "code",
   "execution_count": 3,
   "metadata": {
    "collapsed": true
   },
   "outputs": [],
   "source": [
    "#Get primitive cell from MP\n",
    "primitive_str = mpr.get_structure_by_material_id('mp-765279')"
   ]
  },
  {
   "cell_type": "code",
   "execution_count": 4,
   "metadata": {
    "collapsed": true
   },
   "outputs": [],
   "source": [
    "#Create supercell\n",
    "#Q: how to decide the supercell size?\n",
    "primitive_str.make_supercell([[4,0,0],[0,1,0],[0,0,1]])\n",
    "structure = primitive_str"
   ]
  },
  {
   "cell_type": "code",
   "execution_count": 5,
   "metadata": {
    "collapsed": true
   },
   "outputs": [],
   "source": [
    "#Create vacancies in lithium layer. Concentrations are 0, 0.25, 0.5, 0.6, 0.75, 1\n",
    "#This arrangement may be suitable for all layered-structure lithium cathodes.\n",
    "#Q: we should hardcode vacancies arrangement for all kinds of materials?\n",
    "import numpy as np\n",
    "\"\"\"This function hardcode the vacancy position of different concentration.\"\"\"\n",
    "def vacancy_position(concentration, structure):\n",
    "    if concentration == 0.75:\n",
    "        indice_list = np.arange(0,19,2)\n",
    "        indice_list = sorted(indice_list,reverse=True)\n",
    "        return indice_list\n",
    "    elif concentration == 0.5:\n",
    "        indice_list = np.arange(0,20)\n",
    "        indice_list = sorted(indice_list,reverse=True)\n",
    "        return indice_list\n",
    "    elif concentration == 0.25:\n",
    "        indice_list1 = [21,23,24,26,29,31,33,35,37,39]\n",
    "        indice_list2 = np.arange(0,20)\n",
    "        indice_list = indice_list1 + indice_list2\n",
    "        indice_list = sorted(indice_list,reverse=True)\n",
    "        return indice_list\n",
    "    elif concentration == 0.6:\n",
    "        indice_list = np.arange(24,40)\n",
    "        indice_list = sorted(indice_list,reverse=True)\n",
    "        return indice_list\n",
    "    elif concentration == 0:\n",
    "        indice = np.arange(0,40)\n",
    "        indice_list = sorted(indice_list,reverse=True)\n",
    "        return indice_list\n",
    "\n",
    "\"\"\"This function remove the vacancies according to indice list, meanwhile record the coordinates.\n",
    "   Return a dictionary containing all coordinates.\"\"\"\n",
    "def create_vacancy(vac_indice_list, structure):\n",
    "    vacancy_frac_coords_list =[]\n",
    "    for i in vac_indice_list:\n",
    "        site = structure.pop(i)\n",
    "        vacancy_list_frac_coords.append(site.frac_coords)\n",
    "    return vacancy_frac_coords_list        "
   ]
  },
  {
   "cell_type": "code",
   "execution_count": 6,
   "metadata": {
    "collapsed": true
   },
   "outputs": [],
   "source": [
    "\"\"\"This function swap the species at two given indice.\"\"\"\n",
    "def swap_element(indice1, indice2, structure):\n",
    "    specie1 = structure[indice1].specie\n",
    "    specie2 = structure[indice2].specie\n",
    "    structure.replace(indice2,specie1)\n",
    "    structure.replace(indice1,specie2)\n",
    "    return structure\n",
    "\n",
    "\"\"\"Get the distance between TM atom and all Li atoms. Returnt the indice of the three nearest ones.\"\"\"\n",
    "def find_nearest(indice_TM, structure):\n",
    "    distance = [];\n",
    "    indice_Li = structure.indices_from_symbol('Li')\n",
    "    for i in indice_Li:\n",
    "        d = structure.get_distance(indice_TM,i)\n",
    "        distance.append(d)\n",
    "    dictionary = dict(zip(indice_Li,distance))\n",
    "    dictionary = sorted(dictionary.items(), key = lambda item:item[1])\n",
    "    three_nearest_Li = [dictionary[0][0],dictionary[1][0],dictionary[2][0]]\n",
    "    return three_nearest_Li\n",
    "\n",
    "\"\"\"This function swap TM atom and Li atom.\n",
    "   Then generate the input files.\n",
    "   Attention: specie should be a string or character with '' !\"\"\"\n",
    "from random import choice\n",
    "def swap_Li(specie, structure):\n",
    "    indice_list_specie = structure.indices_from_symbol(specie)\n",
    "    indice_specie = random.choice(indice_list_specie)\n",
    "    indice_Li_list = find_nearest(indice_specie, structure)\n",
    "    for i in indice_Li_list:\n",
    "        new_structure = structure.copy()\n",
    "        new_structure = swap_element(indice_specie, i, new_structure)\n",
    "        file_input = MPRelaxSet(new_structure)\n",
    "        TM_string = str(indice_specie)\n",
    "        Li_string = str(i)\n",
    "        file_input.write_input(specie+TM_string+'Li'+Li_string)\n",
    "        \n",
    "\"\"\"This function find the three nearest vacancies around the TM atom.\"\"\"\n",
    "import math\n",
    "import numpy as np\n",
    "def find_nearest_vac(indice_TM, structure, vacancy_frac_coords_list):\n",
    "    vacancy_distance = []\n",
    "    index = np.arange(0,len(vacancy_frac_coords_list))\n",
    "    site_TM = structure[indice_TM]\n",
    "    xcoord = site_TM.frac_coords[0]\n",
    "    ycoord = site_TM.frac_coords[1]\n",
    "    zcoord = site_TM.frac_coords[2]\n",
    "    for i in range(0,len(vacancy_frac_coords_list)):\n",
    "        vx = vacancy_frac_coords_list[i][0]\n",
    "        vy = vacancy_frac_coords_list[i][1]\n",
    "        vz = vacancy_frac_coords_list[i][2]\n",
    "        distance_square = math.pow((xcoord-vx),2)+math.pow((ycoord-vy),2)+math.pow((zcoord-vz),2)\n",
    "        vacancy_distance.append(distance_square)\n",
    "    vac_dict = dict(zip(index,vacancy_distance))\n",
    "    vac_dict = sorted(vac_dict.items(), key = lambda item:item[1])\n",
    "    three_index = [vac_dict[0][0],vac_dict[1][0],vac_dict[2][0]]\n",
    "    three_nearest_vac = [vacancy_frac_coords_list[three_index[0]],vacancy_frac_coords_list[three_index[1]],vacancy_frac_coords_list[three_index[2]]]\n",
    "    return three_nearest_vac\n",
    "\n",
    "\"\"\"This function swap TM atom and vacancy position.\n",
    "   Then generate input files.\"\"\"\n",
    "def swap_vac(specie, Li_concentration, structure):\n",
    "    vac_all_indice = vacancy_position(Li_concentration, structure)\n",
    "    vac_position = create_vacancy(vac_all_indice,structure)\n",
    "    indice_list_specie = structure.indices_from_symbol(specie)\n",
    "    indice_specie = random.choice(indice_list_specie)\n",
    "    vac_coord_list = find_nearest_vac(indice_specie, structure, vac_position)\n",
    "    print(indice_vac)\n",
    "    for i in range(0,len(vac_coord_list)):\n",
    "        new_structure = structure.copy()\n",
    "        new_structure.pop(indice_specie)\n",
    "        new_structure.append(specie, vac_coord_list[i])\n",
    "        file_input = MPRelaxSet(new_structure)\n",
    "        TM_string = str(indice_specie)\n",
    "        vac_string = str(i)\n",
    "        file_input.write_input(specie+TM_string+'Vac'+vac_string)\n",
    "    "
   ]
  },
  {
   "cell_type": "code",
   "execution_count": null,
   "metadata": {
    "collapsed": true
   },
   "outputs": [],
   "source": []
  }
 ],
 "metadata": {
  "kernelspec": {
   "display_name": "Python 3",
   "language": "python",
   "name": "python3"
  },
  "language_info": {
   "codemirror_mode": {
    "name": "ipython",
    "version": 3
   },
   "file_extension": ".py",
   "mimetype": "text/x-python",
   "name": "python",
   "nbconvert_exporter": "python",
   "pygments_lexer": "ipython3",
   "version": "3.6.2"
  }
 },
 "nbformat": 4,
 "nbformat_minor": 2
}
