{
 "cells": [
  {
   "cell_type": "code",
   "execution_count": 23,
   "metadata": {},
   "outputs": [
    {
     "name": "stderr",
     "output_type": "stream",
     "text": [
      "E:\\anaconda64bits\\lib\\site-packages\\pymatgen\\__init__.py:34: UserWarning: With effect from pmg 5.0, all pymatgen settings are prefixed with a \"PMG_\". E.g., \"PMG_VASP_PSP_DIR\" instead of \"VASP_PSP_DIR\".\n",
      "  warnings.warn('With effect from pmg 5.0, all pymatgen settings are'\n"
     ]
    }
   ],
   "source": [
    "import glob\n",
    "import os\n",
    "from pymatgen.io.vasp.outputs import Vasprun\n",
    "import math\n",
    "import numpy\n",
    "import matplotlib\n",
    "matplotlib.use('Agg')\n",
    "import matplotlib.pyplot as plt"
   ]
  },
  {
   "cell_type": "code",
   "execution_count": 24,
   "metadata": {
    "collapsed": true
   },
   "outputs": [],
   "source": [
    "#Suppose we are in the \"Lix(M)O2\" folder, with multiple folders of possible swap situations.\n",
    "#The analysis process is seperated to the following part:\n",
    "# -- find the relaxed original structure and record the energy before swapping.\n",
    "# -- check if the swapped structure has converged or not.\n",
    "# -- if so, calculate the swap energy.\n",
    "# -- normalize the swap energy and calculate the mixing temperature.\n",
    "# -- plot all data on the figure. Phase diagram built."
   ]
  },
  {
   "cell_type": "code",
   "execution_count": 25,
   "metadata": {
    "collapsed": true
   },
   "outputs": [],
   "source": [
    "#Limitations:\n",
    "#The applied RSM is only valid for LixMO2 system."
   ]
  },
  {
   "cell_type": "code",
   "execution_count": 26,
   "metadata": {
    "collapsed": true
   },
   "outputs": [],
   "source": [
    "\"\"\"Find perfect structure's converged energy.\"\"\"\n",
    "def find_original_energy():\n",
    "    #Get the names of sub-folders in the main folder.\n",
    "    folders = glob.glob('./*')\n",
    "    files = glob.glob('./*.py')\n",
    "    dirs = [x for x in folders if x not in files]\n",
    "    i = 0\n",
    "    #Go through all sub-folders to find the perfect structure.\n",
    "    for folder in dirs:\n",
    "        #go to the sub-folder\n",
    "        os.chdir(folder)\n",
    "        v = Vasprun(\"vasprun.xml\")\n",
    "        #check if it is the perfect structure, if so, grab the energy(here we suppose only the perfect structure's folder contains the key word 'origin')\n",
    "        if folder.find('origin') > 0:\n",
    "            initial_energy = v.final_energy\n",
    "            structure = v.final_structure\n",
    "            a = i\n",
    "        #the index of this folder\n",
    "        i = i + 1\n",
    "        #go back to the parent dir\n",
    "        os.chdir(os.path.pardir)\n",
    "        #remove this name from folder list\n",
    "        dirs.pop(i)\n",
    "    return initial_energy,dirs,structure\n",
    "\n",
    "\"\"\"Grab other final energies and substract perfect energy to find out swap energy.\"\"\"\n",
    "def record_swap_energy(initial_energy, folders):\n",
    "    swap_energy_list = []\n",
    "    for folder in folders:\n",
    "        os.chdir(folder)\n",
    "        #check if the structure is converged. If so, grab the final energy and calculate the swap energy.\n",
    "        v = Vasprun(\"vasprun.xml\")\n",
    "        if v.converged:\n",
    "            swap_energy = v.final_energy - initial_energy\n",
    "            swap_energy_list.append(swap_energy)\n",
    "        os.chdir(os.path.pardir)\n",
    "    print(swap_energy_list)\n",
    "    return swap_energy_list\n",
    "\n",
    "\"\"\"Calculate the mixing temperature for this material. Right now only for Li(M)O2 system.\n",
    "   The input structure is the original structure.\"\"\"\n",
    "def cal_mix_temp(swap_energy_list, structure, dic_outcome):\n",
    "    #normalize the swap energy.\n",
    "    indice_O = structure.indices_from_symbol('O')\n",
    "    indice_Li = structure.indices_from_symbol('Li')\n",
    "    Num_of_O = len(indice_O)/2\n",
    "    Num_of_Li = len(indice_Li)\n",
    "    frac_Li = Num_of_Li/(Num_of_O)\n",
    "    factor = 1.6*(math.pow(10,-19))*6.02*(math.pow(10,23))/Num_of_O\n",
    "    H = [energy*factor for energy in swap_energy_list]\n",
    "    print(H)\n",
    "    #entropy\n",
    "    specie_list = structure.types_of_specie\n",
    "    specie_list.pop(-1)\n",
    "    total_number = 0\n",
    "    number_count = []\n",
    "    for specie in specie_list:\n",
    "        spe_name = str(specie)\n",
    "        indice = structure.indices_from_symbol(spe_name)\n",
    "        num_specie = len(indice)\n",
    "        number_count.append(num_specie)\n",
    "        total_number = total_number + num_specie\n",
    "    fraction = [n/total for n in number_count]\n",
    "    entropy = 0\n",
    "    for f in fraction:\n",
    "        new_entropy = f*(math.log(f,math.e))\n",
    "        entropy = entropy + new_entropy\n",
    "    \n",
    "    #calculate mixing temperature\n",
    "    T = []\n",
    "    for h in H:\n",
    "        t = -h/(entropy*8.31)\n",
    "        T.append(t)\n",
    "    T = sorted(T)\n",
    "    \n",
    "    #store the outcome in the dictionary\n",
    "    dic_outcome[frac_Li] = T\n",
    "    return dict_outcome"
   ]
  },
  {
   "cell_type": "code",
   "execution_count": 27,
   "metadata": {
    "collapsed": true
   },
   "outputs": [],
   "source": [
    "#Once we get the data for all Li concentration, we can make a plot\n",
    "\"\"\"Plot the phase diagram.\"\"\"\n",
    "def plot_phase_diagram(dict_outcome,filename):\n",
    "    concentration_list = list(dict_outcome)\n",
    "    lowest_temp_list = []\n",
    "    #plot the scattered points\n",
    "    for con in concentration_list:\n",
    "        temp_list = dict_outcome[con]\n",
    "        lowest_temp_list.append(temp_list[0])\n",
    "        for temp in temp_list:\n",
    "            temp_float = float(temp)\n",
    "            plt.scatter(con,temp_float,color='b')\n",
    "    #plot the mixing boundary.\n",
    "    plt.plot(concentration_list,lowest_temp_list,color='r')\n",
    "    plt.xlabel(filename)\n",
    "    plt.ylabel('Temperature(K)')\n",
    "    plt.savefig(\"Mixing Temperature\")\n",
    " "
   ]
  },
  {
   "cell_type": "code",
   "execution_count": 29,
   "metadata": {
    "collapsed": true
   },
   "outputs": [
    {
     "ename": "NotADirectoryError",
     "evalue": "[WinError 267] The directory name is invalid: '.\\\\general.ipynb'",
     "output_type": "error",
     "traceback": [
      "\u001b[1;31m---------------------------------------------------------------------------\u001b[0m",
      "\u001b[1;31mNotADirectoryError\u001b[0m                        Traceback (most recent call last)",
      "\u001b[1;32m<ipython-input-29-ba54f4518f6a>\u001b[0m in \u001b[0;36m<module>\u001b[1;34m()\u001b[0m\n\u001b[0;32m      1\u001b[0m \u001b[1;31m# Integrated.\u001b[0m\u001b[1;33m\u001b[0m\u001b[1;33m\u001b[0m\u001b[0m\n\u001b[1;32m----> 2\u001b[1;33m \u001b[0minitial_energy\u001b[0m\u001b[1;33m,\u001b[0m \u001b[0mfolders\u001b[0m \u001b[1;33m=\u001b[0m \u001b[0mfind_original_energy\u001b[0m\u001b[1;33m(\u001b[0m\u001b[1;33m)\u001b[0m\u001b[1;33m\u001b[0m\u001b[0m\n\u001b[0m\u001b[0;32m      3\u001b[0m \u001b[0mswap_energy_list\u001b[0m \u001b[1;33m=\u001b[0m \u001b[0mrecord_swap_energy\u001b[0m\u001b[1;33m(\u001b[0m\u001b[0minitial_energy\u001b[0m\u001b[1;33m,\u001b[0m \u001b[0mfolders\u001b[0m\u001b[1;33m)\u001b[0m\u001b[1;33m\u001b[0m\u001b[0m\n\u001b[0;32m      4\u001b[0m \u001b[0mdic_outcome\u001b[0m \u001b[1;33m=\u001b[0m \u001b[1;33m[\u001b[0m\u001b[1;33m]\u001b[0m\u001b[1;33m\u001b[0m\u001b[0m\n\u001b[0;32m      5\u001b[0m \u001b[0mdic_outcome\u001b[0m \u001b[1;33m=\u001b[0m \u001b[0mcal_mix_temp\u001b[0m\u001b[1;33m(\u001b[0m\u001b[0mswap_energy_list\u001b[0m\u001b[1;33m,\u001b[0m \u001b[0mstructure\u001b[0m\u001b[1;33m,\u001b[0m \u001b[0mdic_outcome\u001b[0m\u001b[1;33m)\u001b[0m \u001b[1;31m# the structure is the perfect structure.\u001b[0m\u001b[1;33m\u001b[0m\u001b[0m\n",
      "\u001b[1;32m<ipython-input-26-7be4a8119eee>\u001b[0m in \u001b[0;36mfind_original_energy\u001b[1;34m()\u001b[0m\n\u001b[0;32m      9\u001b[0m         \u001b[0mi\u001b[0m \u001b[1;33m=\u001b[0m \u001b[0mi\u001b[0m \u001b[1;33m+\u001b[0m \u001b[1;36m1\u001b[0m\u001b[1;33m\u001b[0m\u001b[0m\n\u001b[0;32m     10\u001b[0m         \u001b[1;31m#go to the sub-folder\u001b[0m\u001b[1;33m\u001b[0m\u001b[1;33m\u001b[0m\u001b[0m\n\u001b[1;32m---> 11\u001b[1;33m         \u001b[0mos\u001b[0m\u001b[1;33m.\u001b[0m\u001b[0mchdir\u001b[0m\u001b[1;33m(\u001b[0m\u001b[0mfolder\u001b[0m\u001b[1;33m)\u001b[0m\u001b[1;33m\u001b[0m\u001b[0m\n\u001b[0m\u001b[0;32m     12\u001b[0m         \u001b[0mv\u001b[0m \u001b[1;33m=\u001b[0m \u001b[0mVasprun\u001b[0m\u001b[1;33m(\u001b[0m\u001b[1;34m\"vasprun.xml\"\u001b[0m\u001b[1;33m)\u001b[0m\u001b[1;33m\u001b[0m\u001b[0m\n\u001b[0;32m     13\u001b[0m         \u001b[1;31m#check if it is the perfect structure, if so, grab the energy(here we suppose only the perfect structure's folder contains the key word 'origin')\u001b[0m\u001b[1;33m\u001b[0m\u001b[1;33m\u001b[0m\u001b[0m\n",
      "\u001b[1;31mNotADirectoryError\u001b[0m: [WinError 267] The directory name is invalid: '.\\\\general.ipynb'"
     ]
    }
   ],
   "source": [
    "# Integrated.\n",
    "initial_energy, dirs, structure = find_original_energy()\n",
    "swap_energy_list = record_swap_energy(initial_energy, dirs)\n",
    "dict_outcome = {}\n",
    "dict_outcome = cal_mix_temp(swap_energy_list, structure, dict_outcome) # the structure is the perfect structure.\n",
    "filename =  'Lix(Co0.1Ni0.9)O2' # This is the target material name.\n",
    "plot_phase_diagram(dict_outcome,filename)"
   ]
  },
  {
   "cell_type": "code",
   "execution_count": null,
   "metadata": {
    "collapsed": true
   },
   "outputs": [],
   "source": []
  }
 ],
 "metadata": {
  "kernelspec": {
   "display_name": "Python 3",
   "language": "python",
   "name": "python3"
  },
  "language_info": {
   "codemirror_mode": {
    "name": "ipython",
    "version": 3
   },
   "file_extension": ".py",
   "mimetype": "text/x-python",
   "name": "python",
   "nbconvert_exporter": "python",
   "pygments_lexer": "ipython3",
   "version": "3.6.1"
  }
 },
 "nbformat": 4,
 "nbformat_minor": 2
}
