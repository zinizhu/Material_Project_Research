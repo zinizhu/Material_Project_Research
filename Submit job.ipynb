{
 "cells": [
  {
   "cell_type": "code",
   "execution_count": 5,
   "metadata": {
    "collapsed": true
   },
   "outputs": [],
   "source": [
    "import glob\n",
    "import os"
   ]
  },
  {
   "cell_type": "code",
   "execution_count": 6,
   "metadata": {
    "collapsed": true
   },
   "outputs": [],
   "source": [
    "#file name should be a string with quotes\n",
    "def run_calculation(file_name):\n",
    "    #assume all input file folders are written in the same root folder.\n",
    "    folders = glob.glob('./*')\n",
    "    #filter the target folders\n",
    "    folders = [folder for folder in folders if filename in folder]  \n",
    "    \n",
    "    #write job script\n",
    "    for folder in folders:\n",
    "        directory = \"%s/script.cori\"%folder\n",
    "        script = \"#!/bin/bash -l \\n#SBATCH -J %s \\n#SBATCH -q regular \\n#SBATCH -N 8 \\n#SBATCH -t 03:30:00 \\n#SBATCH -C haswell \\n\\nmodule load vasp \\nsrun -n 256 vasp_std\" % (folder[2:])\n",
    "        #create script file\n",
    "        f = open(directory,\"+w\")\n",
    "        f.write(script)\n",
    "        f.close()\n",
    "        #execute the script\n",
    "        os.chdir(folder)\n",
    "        os.system(\"sbatch script.cori\")\n",
    "        os.chdir(os.path.pardir)\n",
    "    \n",
    "\n",
    "inp = input(\"Type 'tag' for lithium swap, and 'Vac' for vacancy swap:\")\n",
    "run_calculation(inp)"
   ]
  },
  {
   "cell_type": "code",
   "execution_count": null,
   "metadata": {
    "collapsed": true
   },
   "outputs": [],
   "source": []
  }
 ],
 "metadata": {
  "kernelspec": {
   "display_name": "Python 3",
   "language": "python",
   "name": "python3"
  },
  "language_info": {
   "codemirror_mode": {
    "name": "ipython",
    "version": 3
   },
   "file_extension": ".py",
   "mimetype": "text/x-python",
   "name": "python",
   "nbconvert_exporter": "python",
   "pygments_lexer": "ipython3",
   "version": "3.6.2"
  }
 },
 "nbformat": 4,
 "nbformat_minor": 2
}
